{
 "cells": [
  {
   "cell_type": "markdown",
   "metadata": {},
   "source": [
    "# Collaboration and Competition\n",
    "\n",
    "---\n",
    "\n",
    "In this notebook, we solve the Unity ML-Agents Tennis environment.\n",
    "\n",
    "### 1. Start the Environment\n",
    "\n",
    "We begin by importing the necessary packages.  If the code cell below returns an error, please revisit the project instructions to double-check that you have installed [Unity ML-Agents](https://github.com/Unity-Technologies/ml-agents/blob/master/docs/Installation.md), [NumPy](http://www.numpy.org/) and [Pytorch](https://pytorch.org/)."
   ]
  },
  {
   "cell_type": "code",
   "execution_count": 1,
   "metadata": {},
   "outputs": [],
   "source": [
    "from unityagents import UnityEnvironment\n",
    "import numpy as np\n",
    "import torch\n",
    "import random\n",
    "from collections import deque\n",
    "import matplotlib.pyplot as plt\n",
    "from agent import Agent\n",
    "\n",
    "%matplotlib inline"
   ]
  },
  {
   "cell_type": "markdown",
   "metadata": {},
   "source": [
    "Next, we will start the environment!  **_Before running the code cell below_**, change the `file_name` parameter to match the location of the Unity environment that you downloaded.\n",
    "\n",
    "- **Mac**: `\"path/to/Tennis.app\"`\n",
    "- **Windows** (x86): `\"path/to/Tennis_Windows_x86/Tennis.exe\"`\n",
    "- **Windows** (x86_64): `\"path/to/Tennis_Windows_x86_64/Tennis.exe\"`\n",
    "- **Linux** (x86): `\"path/to/Tennis_Linux/Tennis.x86\"`\n",
    "- **Linux** (x86_64): `\"path/to/Tennis_Linux/Tennis.x86_64\"`\n",
    "- **Linux** (x86, headless): `\"path/to/Tennis_Linux_NoVis/Tennis.x86\"`\n",
    "- **Linux** (x86_64, headless): `\"path/to/Tennis_Linux_NoVis/Tennis.x86_64\"`\n",
    "\n",
    "For instance, if you are using a Mac, then you downloaded `Tennis.app`.  If this file is in the same folder as the notebook, then the line below should appear as follows:\n",
    "```\n",
    "env = UnityEnvironment(file_name=\"Tennis.app\")\n",
    "```"
   ]
  },
  {
   "cell_type": "code",
   "execution_count": 2,
   "metadata": {},
   "outputs": [
    {
     "name": "stderr",
     "output_type": "stream",
     "text": [
      "INFO:unityagents:\n",
      "'Academy' started successfully!\n",
      "Unity Academy name: Academy\n",
      "        Number of Brains: 1\n",
      "        Number of External Brains : 1\n",
      "        Lesson number : 0\n",
      "        Reset Parameters :\n",
      "\t\t\n",
      "Unity brain name: TennisBrain\n",
      "        Number of Visual Observations (per agent): 0\n",
      "        Vector Observation space type: continuous\n",
      "        Vector Observation space size (per agent): 8\n",
      "        Number of stacked Vector Observation: 3\n",
      "        Vector Action space type: continuous\n",
      "        Vector Action space size (per agent): 2\n",
      "        Vector Action descriptions: , \n"
     ]
    }
   ],
   "source": [
    "env = UnityEnvironment(file_name=\"Tennis.app\")"
   ]
  },
  {
   "cell_type": "markdown",
   "metadata": {},
   "source": [
    "Environments contain **_brains_** which are responsible for deciding the actions of their associated agents. Here we check for the first brain available, and set it as the default brain we will be controlling from Python."
   ]
  },
  {
   "cell_type": "code",
   "execution_count": 3,
   "metadata": {},
   "outputs": [],
   "source": [
    "# get the default brain\n",
    "brain_name = env.brain_names[0]\n",
    "brain = env.brains[brain_name]"
   ]
  },
  {
   "cell_type": "markdown",
   "metadata": {},
   "source": [
    "### 2. Examine the State and Action Spaces\n",
    "\n",
    "In this environment, two agents control rackets to bounce a ball over a net. If an agent hits the ball over the net, it receives a reward of +0.1.  If an agent lets a ball hit the ground or hits the ball out of bounds, it receives a reward of -0.01.  Thus, the goal of each agent is to keep the ball in play.\n",
    "\n",
    "The observation space consists of 8 variables corresponding to the position and velocity of the ball and racket. Two continuous actions are available, corresponding to movement toward (or away from) the net, and jumping. \n",
    "\n",
    "Run the code cell below to print some information about the environment."
   ]
  },
  {
   "cell_type": "code",
   "execution_count": 4,
   "metadata": {},
   "outputs": [
    {
     "name": "stdout",
     "output_type": "stream",
     "text": [
      "Number of agents: 2\n",
      "Size of each action: 2\n",
      "There are 2 agents. Each observes a state with length: 24\n",
      "The state for the first agent looks like: [ 0.          0.          0.          0.          0.          0.\n",
      "  0.          0.          0.          0.          0.          0.\n",
      "  0.          0.          0.          0.         -6.65278625 -1.5\n",
      " -0.          0.          6.83172083  6.         -0.          0.        ]\n"
     ]
    }
   ],
   "source": [
    "# reset the environment\n",
    "env_info = env.reset(train_mode=True)[brain_name]\n",
    "\n",
    "# number of agents \n",
    "num_agents = len(env_info.agents)\n",
    "print('Number of agents:', num_agents)\n",
    "\n",
    "# size of each action\n",
    "action_size = brain.vector_action_space_size\n",
    "print('Size of each action:', action_size)\n",
    "\n",
    "# examine the state space \n",
    "states = env_info.vector_observations\n",
    "state_size = states.shape[1]\n",
    "print('There are {} agents. Each observes a state with length: {}'.format(states.shape[0], state_size))\n",
    "print('The state for the first agent looks like:', states[0])"
   ]
  },
  {
   "cell_type": "markdown",
   "metadata": {},
   "source": [
    "### 3. Take Random Actions in the Environment\n",
    "\n",
    "In the next code cell, you will learn how to use the Python API to control the agents and receive feedback from the environment.\n",
    "\n",
    "Once this cell is executed, you will watch the agents' performance, if they select actions at random with each time step.  A window should pop up that allows you to observe the agents.\n",
    "\n",
    "Of course, as part of the project, you'll have to change the code so that the agents are able to use their experiences to gradually choose better actions when interacting with the environment!"
   ]
  },
  {
   "cell_type": "code",
   "execution_count": 5,
   "metadata": {
    "scrolled": true
   },
   "outputs": [
    {
     "name": "stdout",
     "output_type": "stream",
     "text": [
      "Score (max over agents) from episode 1: 0.0000 [Average: -0.0050]\n",
      "Score (max over agents) from episode 2: 0.0000 [Average: -0.0050]\n",
      "Score (max over agents) from episode 3: 0.0900 [Average: 0.0450]\n",
      "Score (max over agents) from episode 4: 0.0900 [Average: 0.0450]\n",
      "Score (max over agents) from episode 5: 0.0000 [Average: -0.0050]\n"
     ]
    }
   ],
   "source": [
    "for i in range(1, 6):                                      # play game for 5 episodes\n",
    "    env_info = env.reset(train_mode=False)[brain_name]     # reset the environment    \n",
    "    states = env_info.vector_observations                  # get the current state (for each agent)\n",
    "    scores = np.zeros(num_agents)                          # initialize the score (for each agent)\n",
    "    while True:\n",
    "        actions = np.random.randn(num_agents, action_size) # select an action (for each agent)\n",
    "        actions = np.clip(actions, -1, 1)                  # all actions between -1 and 1\n",
    "        env_info = env.step(actions)[brain_name]           # send all actions to tne environment\n",
    "        next_states = env_info.vector_observations         # get next state (for each agent)\n",
    "        rewards = env_info.rewards                         # get reward (for each agent)\n",
    "        dones = env_info.local_done                        # see if episode finished\n",
    "        scores += env_info.rewards                         # update the score (for each agent)\n",
    "        states = next_states                               # roll over states to next time step\n",
    "        if np.any(dones):                                  # exit loop if episode finished\n",
    "            break\n",
    "    print('Score (max over agents) from episode {}: {:.4f} [Average: {:.4f}]'.\\\n",
    "                                              format(i, np.max(scores), np.mean(scores)))"
   ]
  },
  {
   "cell_type": "markdown",
   "metadata": {},
   "source": [
    "When finished, you can close the environment."
   ]
  },
  {
   "cell_type": "markdown",
   "metadata": {},
   "source": [
    "## Solve: Training the Agent with DDPG"
   ]
  },
  {
   "cell_type": "code",
   "execution_count": 6,
   "metadata": {},
   "outputs": [],
   "source": [
    "# Create the Agent\n",
    "agent = Agent(state_size, action_size, random_seed = 2, agent_size = num_agents)"
   ]
  },
  {
   "cell_type": "code",
   "execution_count": 7,
   "metadata": {},
   "outputs": [],
   "source": [
    "# Gather experience and train the Agent\n",
    "\n",
    "def ddpg(scores, rollscores, n_episodes = 5000, max_t = 1000, \\\n",
    "         print_every = 20, window = 100, target = 0.5, save_every = 50, stop = True):\n",
    "    \"\"\"Deep Deterministic Policy Gradients DDPG:\n",
    "       Params:\n",
    "            n_episodes (int): maximum number of training episodes\n",
    "            max_t (int): maximum number of timesteps per episode\n",
    "            print_every(int): print update \n",
    "    \"\"\"\n",
    "    for i_episode in range(1, n_episodes+1):\n",
    "        \n",
    "        env_info = env.reset(train_mode=True)[brain_name] # reset the environment\n",
    "        state = env_info.vector_observations              # get the current state\n",
    "        agent.reset()                                     # reset agent noise \n",
    "        scores_a1 = 0 \n",
    "        scores_a2 = 0\n",
    "        \n",
    "        for t in range(max_t):\n",
    "            actions = agent.act(state)                    # select an action   \n",
    "            action_info = env.step(actions)[brain_name]   # take the action\n",
    "            next_state = action_info.vector_observations  # get next state\n",
    "            rewards = action_info.rewards                 # get rewards for each agent\n",
    "            done = action_info.local_done                 # check if episode is finished\n",
    "            for idx in range(num_agents):                 # save the experience\n",
    "                agent.save_experience(state[idx], actions[idx], rewards[idx], next_state[idx], done[idx])\n",
    "            agent.multi_step(t)                           # train each agent \n",
    "            state = next_state                            # roll over states to next time step\n",
    "            scores_a1 += rewards[0] \n",
    "            scores_a2 += rewards[1]\n",
    "            if np.any(done):\n",
    "                break\n",
    "        \n",
    "        scores.append(max(scores_a1,scores_a2))           # keep track of scores\n",
    "        \n",
    "        if i_episode <= window:\n",
    "            rollscores.append(np.mean(scores))\n",
    "        else:\n",
    "            rollscores.append(np.mean(scores[-window:]))\n",
    "        \n",
    "        if i_episode % print_every == 0:                  # printing\n",
    "            print('Episode {}\\tAverage Score: {:.4f}'.format(i_episode, rollscores[-1]))\n",
    "  \n",
    "        if i_episode % save_every == 0:                   # saving model params\n",
    "            torch.save(agent.actor_local.state_dict(),  'checkpoint_actor.pth')\n",
    "            torch.save(agent.critic_local.state_dict(), 'checkpoint_critic.pth')\n",
    "        \n",
    "        if rollscores[-1] >= target and stop:\n",
    "            print('\\nEnvironment solved in {:d} episodes!\\tAverage Score: {:.4f}'.\\\n",
    "                                              format(i_episode - window, rollscores[-1]))\n",
    "            break\n",
    "    \n",
    "    print ('\\nTraining Completed')"
   ]
  },
  {
   "cell_type": "markdown",
   "metadata": {},
   "source": [
    "### 1. Targeted Learning"
   ]
  },
  {
   "cell_type": "code",
   "execution_count": 8,
   "metadata": {},
   "outputs": [
    {
     "name": "stdout",
     "output_type": "stream",
     "text": [
      "Episode 20\tAverage Score: 0.0100\n",
      "Episode 40\tAverage Score: 0.0050\n",
      "Episode 60\tAverage Score: 0.0033\n",
      "Episode 80\tAverage Score: 0.0025\n",
      "Episode 100\tAverage Score: 0.0020\n",
      "Episode 120\tAverage Score: 0.0000\n",
      "Episode 140\tAverage Score: 0.0000\n",
      "Episode 160\tAverage Score: 0.0000\n",
      "Episode 180\tAverage Score: 0.0000\n",
      "Episode 200\tAverage Score: 0.0000\n",
      "Episode 220\tAverage Score: 0.0000\n",
      "Episode 240\tAverage Score: 0.0000\n",
      "Episode 260\tAverage Score: 0.0000\n",
      "Episode 280\tAverage Score: 0.0020\n",
      "Episode 300\tAverage Score: 0.0039\n",
      "Episode 320\tAverage Score: 0.0116\n",
      "Episode 340\tAverage Score: 0.0144\n",
      "Episode 360\tAverage Score: 0.0164\n",
      "Episode 380\tAverage Score: 0.0173\n",
      "Episode 400\tAverage Score: 0.0174\n",
      "Episode 420\tAverage Score: 0.0155\n",
      "Episode 440\tAverage Score: 0.0166\n",
      "Episode 460\tAverage Score: 0.0146\n",
      "Episode 480\tAverage Score: 0.0117\n",
      "Episode 500\tAverage Score: 0.0097\n",
      "Episode 520\tAverage Score: 0.0039\n",
      "Episode 540\tAverage Score: 0.0000\n",
      "Episode 560\tAverage Score: 0.0000\n",
      "Episode 580\tAverage Score: 0.0000\n",
      "Episode 600\tAverage Score: 0.0000\n",
      "Episode 620\tAverage Score: 0.0000\n",
      "Episode 640\tAverage Score: 0.0000\n",
      "Episode 660\tAverage Score: 0.0000\n",
      "Episode 680\tAverage Score: 0.0000\n",
      "Episode 700\tAverage Score: 0.0000\n",
      "Episode 720\tAverage Score: 0.0000\n",
      "Episode 740\tAverage Score: 0.0000\n",
      "Episode 760\tAverage Score: 0.0000\n",
      "Episode 780\tAverage Score: 0.0038\n",
      "Episode 800\tAverage Score: 0.0132\n",
      "Episode 820\tAverage Score: 0.0229\n",
      "Episode 840\tAverage Score: 0.0345\n",
      "Episode 860\tAverage Score: 0.0494\n",
      "Episode 880\tAverage Score: 0.0620\n",
      "Episode 900\tAverage Score: 0.0682\n",
      "Episode 920\tAverage Score: 0.0790\n",
      "Episode 940\tAverage Score: 0.0870\n",
      "Episode 960\tAverage Score: 0.0951\n",
      "Episode 980\tAverage Score: 0.0971\n",
      "Episode 1000\tAverage Score: 0.1009\n",
      "Episode 1020\tAverage Score: 0.1008\n",
      "Episode 1040\tAverage Score: 0.1009\n",
      "Episode 1060\tAverage Score: 0.0961\n",
      "Episode 1080\tAverage Score: 0.0959\n",
      "Episode 1100\tAverage Score: 0.0962\n",
      "Episode 1120\tAverage Score: 0.0975\n",
      "Episode 1140\tAverage Score: 0.1034\n",
      "Episode 1160\tAverage Score: 0.1147\n",
      "Episode 1180\tAverage Score: 0.1353\n",
      "Episode 1200\tAverage Score: 0.1573\n",
      "Episode 1220\tAverage Score: 0.1623\n",
      "Episode 1240\tAverage Score: 0.1685\n",
      "Episode 1260\tAverage Score: 0.1688\n",
      "Episode 1280\tAverage Score: 0.1720\n",
      "Episode 1300\tAverage Score: 0.1813\n",
      "Episode 1320\tAverage Score: 0.2516\n",
      "Episode 1340\tAverage Score: 0.3038\n",
      "Episode 1360\tAverage Score: 0.3560\n",
      "Episode 1380\tAverage Score: 0.3840\n",
      "Episode 1400\tAverage Score: 0.4218\n",
      "Episode 1420\tAverage Score: 0.3778\n",
      "Episode 1440\tAverage Score: 0.3836\n",
      "Episode 1460\tAverage Score: 0.3776\n",
      "Episode 1480\tAverage Score: 0.3826\n",
      "Episode 1500\tAverage Score: 0.3457\n",
      "Episode 1520\tAverage Score: 0.3615\n",
      "Episode 1540\tAverage Score: 0.3276\n",
      "Episode 1560\tAverage Score: 0.3123\n",
      "Episode 1580\tAverage Score: 0.3432\n",
      "Episode 1600\tAverage Score: 0.3750\n",
      "Episode 1620\tAverage Score: 0.3612\n",
      "Episode 1640\tAverage Score: 0.3641\n",
      "Episode 1660\tAverage Score: 0.3893\n",
      "Episode 1680\tAverage Score: 0.3712\n",
      "Episode 1700\tAverage Score: 0.3842\n",
      "Episode 1720\tAverage Score: 0.3891\n",
      "Episode 1740\tAverage Score: 0.4230\n",
      "Episode 1760\tAverage Score: 0.4367\n",
      "Episode 1780\tAverage Score: 0.4426\n",
      "Episode 1800\tAverage Score: 0.4736\n",
      "\n",
      "Environment solved in 1708 episodes!\tAverage Score:                                       0.5035\n",
      "\n",
      "Training Completed\n"
     ]
    }
   ],
   "source": [
    "scores = []\n",
    "rollscores = []\n",
    "ddpg(scores, rollscores)"
   ]
  },
  {
   "cell_type": "code",
   "execution_count": 10,
   "metadata": {},
   "outputs": [
    {
     "data": {
      "image/png": "[encoded data removed]",
      "text/plain": [
       "<Figure size 432x288 with 1 Axes>"
      ]
     },
     "metadata": {
      "needs_background": "light"
     },
     "output_type": "display_data"
    }
   ],
   "source": [
    "# plot the scores\n",
    "fig = plt.figure()\n",
    "ax = fig.add_subplot(111)\n",
    "plt.plot(scores)\n",
    "plt.plot(rollscores)\n",
    "ax.legend(['Episode Scores', 'Rolling Average'])\n",
    "plt.ylabel('Score')\n",
    "plt.xlabel('Episode #')\n",
    "plt.show()"
   ]
  },
  {
   "cell_type": "markdown",
   "metadata": {},
   "source": [
    "### 2. (Almost) Unlimited Learning"
   ]
  },
  {
   "cell_type": "code",
   "execution_count": null,
   "metadata": {},
   "outputs": [],
   "source": [
    "ddpg(scores, rollscores, print_every = 50, stop = False)"
   ]
  },
  {
   "cell_type": "code",
   "execution_count": null,
   "metadata": {},
   "outputs": [],
   "source": [
    "# plot the scores\n",
    "fig = plt.figure()\n",
    "ax = fig.add_subplot(111)\n",
    "plt.plot(scores)\n",
    "plt.plot(rollscores)\n",
    "ax.legend(['Episode Scores', 'Rolling Average'])\n",
    "plt.ylabel('Score')\n",
    "plt.xlabel('Episode #')\n",
    "plt.show()"
   ]
  },
  {
   "cell_type": "markdown",
   "metadata": {},
   "source": [
    "### Watch a Smart Agent!"
   ]
  },
  {
   "cell_type": "code",
   "execution_count": 11,
   "metadata": {},
   "outputs": [
    {
     "name": "stdout",
     "output_type": "stream",
     "text": [
      "Total score (averaged over agents) in this episode: 2.6000\n"
     ]
    }
   ],
   "source": [
    "# load the weights from file\n",
    "newagent = Agent(state_size, action_size, random_seed = 2, agent_size = num_agents)\n",
    "newagent.local_actor.load_state_dict(torch.load('Weights/checkpoint_actor.pth'))\n",
    "newagent.local_critic.load_state_dict(torch.load('Weights/checkpoint_critic.pth'))\n",
    "\n",
    "env_info = env.reset(train_mode=False)[brain_name]    # reset the environment\n",
    "states = env_info.vector_observations                 # get the current state\n",
    "newscores = np.zeros(num_agents)                      # initialize the score\n",
    "while True:\n",
    "    actions = newagent.act(states, add_noise = False) # select an action for each agent\n",
    "    actions = np.clip(actions, -1, 1)                 # all actions between -1 and 1      \n",
    "    env_info = env.step(actions)[brain_name]          # send the action to the environment                  \n",
    "    next_states =  env_info.vector_observations       # get the next state\n",
    "    rewards = env_info.rewards                        # get the rewards\n",
    "    dones = env_info.local_done                       # see if episode has finished\n",
    "    newscores += rewards                              # update the score for each agent\n",
    "    states = next_states                              # roll over the state to next time step\n",
    "    if np.any(dones):                                 # exit loop if episode finished\n",
    "        break\n",
    "    \n",
    "print('Total score (averaged over agents) in this episode: {:.4f}'.format(np.mean(newscores)))"
   ]
  },
  {
   "cell_type": "code",
   "execution_count": 15,
   "metadata": {},
   "outputs": [],
   "source": [
    "env.close()"
   ]
  }
 ],
 "metadata": {
  "kernelspec": {
   "display_name": "Python 3",
   "language": "python",
   "name": "python3"
  },
  "language_info": {
   "codemirror_mode": {
    "name": "ipython",
    "version": 3
   },
   "file_extension": ".py",
   "mimetype": "text/x-python",
   "name": "python",
   "nbconvert_exporter": "python",
   "pygments_lexer": "ipython3",
   "version": "3.7.3"
  }
 },
 "nbformat": 4,
 "nbformat_minor": 2
}
